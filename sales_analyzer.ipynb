{
 "cells": [
  {
   "cell_type": "code",
   "execution_count": 1,
   "id": "ad055801-875b-4af1-b839-ecd469c262ae",
   "metadata": {},
   "outputs": [
    {
     "name": "stdout",
     "output_type": "stream",
     "text": [
      "📊 Welcome to Simple Sales Analyzer 📊\n"
     ]
    },
    {
     "name": "stdin",
     "output_type": "stream",
     "text": [
      "Enter number of products:  3\n"
     ]
    },
    {
     "name": "stdout",
     "output_type": "stream",
     "text": [
      "\n",
      "Enter details for Product 1:\n"
     ]
    },
    {
     "name": "stdin",
     "output_type": "stream",
     "text": [
      "Product Name:  Apple\n",
      "Quantity Sold:  45\n",
      "Price per item:  5\n"
     ]
    },
    {
     "name": "stdout",
     "output_type": "stream",
     "text": [
      "\n",
      "Enter details for Product 2:\n"
     ]
    },
    {
     "name": "stdin",
     "output_type": "stream",
     "text": [
      "Product Name:  Orange\n",
      "Quantity Sold:  67\n",
      "Price per item:  78\n"
     ]
    },
    {
     "name": "stdout",
     "output_type": "stream",
     "text": [
      "\n",
      "Enter details for Product 3:\n"
     ]
    },
    {
     "name": "stdin",
     "output_type": "stream",
     "text": [
      "Product Name:  Grapes\n",
      "Quantity Sold:  98\n",
      "Price per item:  76\n"
     ]
    },
    {
     "name": "stdout",
     "output_type": "stream",
     "text": [
      "\n",
      "--- Sales Summary ---\n",
      "Apple | Qty: 45 | Price: ₹5.0 | Total: ₹225.0\n",
      "Orange | Qty: 67 | Price: ₹78.0 | Total: ₹5226.0\n",
      "Grapes | Qty: 98 | Price: ₹76.0 | Total: ₹7448.0\n",
      "\n",
      "✅ Grand Total Sales: ₹ 12899.0\n",
      "🏆 Best Selling Product: Grapes\n",
      "-------------------------------\n",
      "🎉 Great job! Sales target achieved.\n"
     ]
    }
   ],
   "source": [
    "print(\"📊 Welcome to Simple Sales Analyzer 📊\")\n",
    "\n",
    "# Step 1: Create an empty list to store sales\n",
    "sales_data = []\n",
    "\n",
    "# Step 2: Take input from user\n",
    "num_products = int(input(\"Enter number of products: \"))\n",
    "\n",
    "for i in range(num_products):\n",
    "    print(f\"\\nEnter details for Product {i+1}:\")\n",
    "    product_name = input(\"Product Name: \")\n",
    "    quantity = int(input(\"Quantity Sold: \"))\n",
    "    price = float(input(\"Price per item: \"))\n",
    "\n",
    "    # Calculate total\n",
    "    total = quantity * price\n",
    "    sales_data.append({\n",
    "        \"name\": product_name,\n",
    "        \"quantity\": quantity,\n",
    "        \"price\": price,\n",
    "        \"total\": total\n",
    "    })\n",
    "\n",
    "# Step 3: Display all sales\n",
    "print(\"\\n--- Sales Summary ---\")\n",
    "grand_total = 0\n",
    "best_product = \"\"\n",
    "highest_sale = 0\n",
    "\n",
    "for sale in sales_data:\n",
    "    print(f\"{sale['name']} | Qty: {sale['quantity']} | Price: ₹{sale['price']} | Total: ₹{sale['total']}\")\n",
    "    grand_total += sale[\"total\"]\n",
    "\n",
    "    # find best product\n",
    "    if sale[\"total\"] > highest_sale:\n",
    "        highest_sale = sale[\"total\"]\n",
    "        best_product = sale[\"name\"]\n",
    "\n",
    "# Step 4: Final results\n",
    "print(\"\\n✅ Grand Total Sales: ₹\", grand_total)\n",
    "print(\"🏆 Best Selling Product:\", best_product)\n",
    "print(\"-------------------------------\")\n",
    "\n",
    "# Step 5: Apply simple decision using if\n",
    "if grand_total > 10000:\n",
    "    print(\"🎉 Great job! Sales target achieved.\")\n",
    "else:\n",
    "    print(\"⚠️ Sales target not reached. Try to improve next time!\")\n",
    "    \n"
   ]
  },
  {
   "cell_type": "code",
   "execution_count": null,
   "id": "374d85d8-2fbb-4b45-a7bb-3c545c3074ed",
   "metadata": {},
   "outputs": [],
   "source": []
  },
  {
   "cell_type": "code",
   "execution_count": null,
   "id": "876d8cd6-d69f-4fa7-afbc-296632d3fde1",
   "metadata": {},
   "outputs": [],
   "source": []
  },
  {
   "cell_type": "code",
   "execution_count": null,
   "id": "3817d021-3404-47a5-8c00-a6eb7487f02d",
   "metadata": {},
   "outputs": [],
   "source": []
  },
  {
   "cell_type": "code",
   "execution_count": null,
   "id": "7656f587-e672-4c3f-8a79-0d79c94bb937",
   "metadata": {},
   "outputs": [],
   "source": []
  },
  {
   "cell_type": "code",
   "execution_count": null,
   "id": "cc5ece1d-ba7b-4230-985f-78841e951a9b",
   "metadata": {},
   "outputs": [],
   "source": []
  }
 ],
 "metadata": {
  "kernelspec": {
   "display_name": "Python 3 (ipykernel)",
   "language": "python",
   "name": "python3"
  },
  "language_info": {
   "codemirror_mode": {
    "name": "ipython",
    "version": 3
   },
   "file_extension": ".py",
   "mimetype": "text/x-python",
   "name": "python",
   "nbconvert_exporter": "python",
   "pygments_lexer": "ipython3",
   "version": "3.13.2"
  }
 },
 "nbformat": 4,
 "nbformat_minor": 5
}
